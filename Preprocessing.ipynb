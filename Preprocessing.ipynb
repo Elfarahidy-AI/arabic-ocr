{
 "cells": [
  {
   "cell_type": "code",
   "execution_count": 1,
   "metadata": {},
   "outputs": [
    {
     "name": "stderr",
     "output_type": "stream",
     "text": [
      "C:\\Users\\nahel\\AppData\\Local\\Packages\\PythonSoftwareFoundation.Python.3.10_qbz5n2kfra8p0\\LocalCache\\local-packages\\Python310\\site-packages\\scipy\\__init__.py:177: UserWarning: A NumPy version >=1.18.5 and <1.26.0 is required for this version of SciPy (detected version 1.26.4\n",
      "  warnings.warn(f\"A NumPy version >={np_minversion} and <{np_maxversion}\"\n"
     ]
    }
   ],
   "source": [
    "import os\n",
    "import cv2 as cv\n",
    "import numpy as np\n",
    "import tensorflow as tf\n",
    "from scipy.ndimage import interpolation as inter\n",
    "from PIL import Image as im"
   ]
  },
  {
   "cell_type": "code",
   "execution_count": 2,
   "metadata": {},
   "outputs": [],
   "source": [
    "def binary_otsus(image, filter:int=1):\n",
    "    if len(image.shape) == 3:\n",
    "        gray_img = cv.cvtColor(image, cv.COLOR_BGR2GRAY)\n",
    "    else:\n",
    "        gray_img = image\n",
    "\n",
    "    # Otsus Binarization\n",
    "    if filter != 0:\n",
    "        blur = cv.GaussianBlur(gray_img, (3,3), 0)\n",
    "        binary_img = cv.threshold(blur, 0, 255, cv.THRESH_BINARY+cv.THRESH_OTSU)[1]\n",
    "    else:\n",
    "        binary_img = cv.threshold(gray_img, 0, 255, cv.THRESH_BINARY+cv.THRESH_OTSU)[1]\n",
    "    \n",
    "    return binary_img"
   ]
  },
  {
   "cell_type": "code",
   "execution_count": 3,
   "metadata": {},
   "outputs": [],
   "source": [
    "def find_score(arr, angle):\n",
    "    data = inter.rotate(arr, angle, reshape=False, order=0)\n",
    "    hist = np.sum(data, axis=1)\n",
    "    score = np.sum((hist[1:] - hist[:-1]) ** 2)\n",
    "    return hist, score"
   ]
  },
  {
   "cell_type": "code",
   "execution_count": 15,
   "metadata": {},
   "outputs": [],
   "source": [
    "def deskew(binary_img):\n",
    "    ht, wd = binary_img.shape\n",
    "    bin_img = (binary_img // 255.0)  # Convert binary image to float (0 and 1)\n",
    "\n",
    "    delta = 0.1\n",
    "    limit = 3\n",
    "    angles = np.arange(-limit, limit+delta, delta)\n",
    "    scores = []\n",
    "    for angle in angles:\n",
    "        hist, score = find_score(bin_img, angle)\n",
    "        scores.append(score)\n",
    "\n",
    "    best_score = max(scores)\n",
    "    best_angle = angles[scores.index(best_score)]\n",
    "\n",
    "    # Correct skew using the best angle\n",
    "    data = inter.rotate(bin_img, best_angle, reshape=False, order=0)\n",
    "    img = im.fromarray((255 * data).astype(\"uint8\"))  # Convert back to uint8 for PIL\n",
    "\n",
    "    pix = np.array(img)\n",
    "    return pix"
   ]
  },
  {
   "cell_type": "code",
   "execution_count": 5,
   "metadata": {},
   "outputs": [],
   "source": [
    "def crop_image(image, direction='H'):\n",
    "    (w,h) = image.shape\n",
    "    sum = []\n",
    "    pixel_count=0\n",
    "    if(direction=='H'):\n",
    "        for j in range(w-1):\n",
    "            for i in range(h-1):\n",
    "                pixel=image[j,i]\n",
    "                if(pixel==255):\n",
    "                    pixel_count+=1\n",
    "            sum.append(pixel_count)\n",
    "            pixel_count=0\n",
    "    else:\n",
    "        for j in range(h-1):\n",
    "            for i in range(w-1):\n",
    "                pixel=image[i,j]\n",
    "                if(pixel==255):\n",
    "                    pixel_count+=1\n",
    "            sum.append(pixel_count)\n",
    "            pixel_count=0\n",
    "\n",
    "    flipped_hist=np.flip(sum)\n",
    "    startpos=0\n",
    "    endpos=0\n",
    "    for i in range(1, len(sum)-1):\n",
    "        if(sum[i-1]==0 and sum[i]==0 and sum[i+1]!=0):\n",
    "            startpos=i\n",
    "            break\n",
    "    for i in range(1, len(flipped_hist)-1):\n",
    "        if(sum[i-1]==0 and sum[i]==0 and sum[i+1]!=0):\n",
    "            endpos=len(flipped_hist)-1-i\n",
    "            break\n",
    "\n",
    "    diff=np.abs(startpos-endpos)\n",
    "    if(direction=='H' and diff>=10 and startpos<endpos):\n",
    "        if(startpos<endpos):\n",
    "            return image[startpos:endpos,:]\n",
    "        else:\n",
    "            return image[endpos:startpos,:]\n",
    "    elif(direction=='V' and diff>=10 and startpos<endpos):\n",
    "        if(startpos<endpos):\n",
    "            return image[:,startpos:endpos]\n",
    "        else:\n",
    "            return image[:,endpos:startpos]\n",
    "    else:\n",
    "        return image\n",
    "\n"
   ]
  },
  {
   "cell_type": "code",
   "execution_count": 30,
   "metadata": {},
   "outputs": [],
   "source": [
    "def distortion_free_resize(image, img_size=(512,1024)):\n",
    "    h, w = img_size\n",
    "    image = cv.resize(image, (w, h))\n",
    "\n",
    "    return image"
   ]
  },
  {
   "cell_type": "code",
   "execution_count": 32,
   "metadata": {},
   "outputs": [
    {
     "name": "stderr",
     "output_type": "stream",
     "text": [
      "C:\\Users\\nahel\\AppData\\Local\\Temp\\ipykernel_780\\3855814655.py:2: DeprecationWarning: Please use `rotate` from the `scipy.ndimage` namespace, the `scipy.ndimage.interpolation` namespace is deprecated.\n",
      "  data = inter.rotate(arr, angle, reshape=False, order=0)\n",
      "C:\\Users\\nahel\\AppData\\Local\\Temp\\ipykernel_780\\1074616353.py:17: DeprecationWarning: Please use `rotate` from the `scipy.ndimage` namespace, the `scipy.ndimage.interpolation` namespace is deprecated.\n",
      "  data = inter.rotate(bin_img, best_angle, reshape=False, order=0)\n"
     ]
    }
   ],
   "source": [
    "input_folder = 'C:/Users/nahel/Desktop/Spring2024/GP2/graduation_project-Ocr_module/paragraphs_per_user/paragraphs_per_user'\n",
    "output_folder = 'preprocessed_images'\n",
    "\n",
    "if not os.path.exists(output_folder):\n",
    "    os.makedirs(output_folder)\n",
    "\n",
    "for root, dirs, files in os.walk(input_folder):\n",
    "    for filename in files:\n",
    "        if filename.endswith('.jpg') or filename.endswith('.png'):\n",
    "            input_path = os.path.join(root, filename)\n",
    "            output_path = os.path.join(output_folder, filename)\n",
    "\n",
    "            # Load image\n",
    "            image = cv.imread(input_path)\n",
    "\n",
    "            # Preprocessing pipeline\n",
    "            binary_image = binary_otsus(image)\n",
    "            deskewed_image = deskew(binary_image)\n",
    "            cropped_image = crop_image(deskewed_image, direction='H')\n",
    "            processed_image = distortion_free_resize(cropped_image)\n",
    "\n",
    "            # Save the processed image\n",
    "            cv.imwrite(output_path, processed_image)"
   ]
  }
 ],
 "metadata": {
  "kernelspec": {
   "display_name": "Python 3",
   "language": "python",
   "name": "python3"
  },
  "language_info": {
   "codemirror_mode": {
    "name": "ipython",
    "version": 3
   },
   "file_extension": ".py",
   "mimetype": "text/x-python",
   "name": "python",
   "nbconvert_exporter": "python",
   "pygments_lexer": "ipython3",
   "version": "3.10.11"
  }
 },
 "nbformat": 4,
 "nbformat_minor": 2
}
